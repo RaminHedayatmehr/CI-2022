{
 "cells": [
  {
   "cell_type": "code",
   "execution_count": null,
   "metadata": {},
   "outputs": [],
   "source": [
    "class Quarto:\n",
    "    def __init__(self, pieces=None):\n",
    "        if pieces:\n",
    "            self.pieces = pieces\n",
    "        else:\n",
    "            self.pieces = [i for i in range(16)]\n",
    "        self.board = [None for i in range(16)]\n",
    "\n",
    "    def play_piece(self, piece, pos):\n",
    "        self.board[pos] = piece\n",
    "        self.pieces.remove(piece)\n",
    "\n",
    "    def is_game_over(self):\n",
    "        for i in range(16):\n",
    "            piece = self.board[i]\n",
    "            if piece is None:\n",
    "                continue\n",
    "            row = i // 4\n",
    "            col = i % 4\n",
    "            # Check horizontal match\n",
    "            if all([self.board[row * 4 + j] == piece for j in range(4)]):\n",
    "                return True\n",
    "            # Check vertical match\n",
    "            if all([self.board[col + 4 * j] == piece for j in range(4)]):\n",
    "                return True\n",
    "        # Check diagonal match (top-left to bottom-right)\n",
    "        if all([self.board[i] == self.board[0] for i in range(16) if i % 5 == 0]):\n",
    "            return True\n",
    "        # Check diagonal match (top-right to bottom-left)\n",
    "        if all([self.board[3 + (3 - i) * 4] == self.board[3] for i in range(4)]):\n",
    "            return True\n",
    "        return False\n",
    "\n",
    "    def evaluate(self):\n",
    "        if self.is_game_over():\n",
    "            return 1e6\n",
    "        return 0\n"
   ]
  }
 ],
 "metadata": {
  "language_info": {
   "name": "python"
  },
  "orig_nbformat": 4
 },
 "nbformat": 4,
 "nbformat_minor": 2
}
