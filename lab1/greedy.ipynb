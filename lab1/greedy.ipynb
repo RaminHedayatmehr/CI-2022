{
 "cells": [
  {
   "cell_type": "code",
   "execution_count": 9,
   "metadata": {},
   "outputs": [
    {
     "name": "stderr",
     "output_type": "stream",
     "text": [
      "INFO:root:Greedy solution for N=5: w=5 (bloat=0%)\n",
      "INFO:root:Greedy solution for N=10: w=13 (bloat=30%)\n",
      "INFO:root:Greedy solution for N=20: w=46 (bloat=130%)\n",
      "INFO:root:Greedy solution for N=100: w=332 (bloat=232%)\n",
      "INFO:root:Greedy solution for N=500: w=2162 (bloat=332%)\n",
      "INFO:root:Greedy solution for N=1000: w=4652 (bloat=365%)\n"
     ]
    }
   ],
   "source": [
    "import random\n",
    "def problem(N, seed=None):\n",
    "    random.seed(seed)\n",
    "    return [\n",
    "        list(set(random.randint(0, N - 1) for n in range(random.randint(N // 5, N // 2))))\n",
    "        for n in range(random.randint(N, N * 5))\n",
    "    ]\n",
    "import logging\n",
    "\n",
    "\n",
    "def greedy(N):\n",
    "    goal = set(range(N))\n",
    "    covered = set()\n",
    "    solution = list()\n",
    "    all_lists = sorted(problem(N, seed=42), key=lambda l: len(l))\n",
    "    while goal != covered:\n",
    "        x = all_lists.pop(0)\n",
    "        if not set(x) < covered:\n",
    "            solution.append(x)\n",
    "            covered |= set(x)\n",
    "\n",
    "    logging.info(\n",
    "        f\"Greedy solution for N={N}: w={sum(len(_) for _ in solution)} (bloat={(sum(len(_) for _ in solution)-N)/N*100:.0f}%)\"\n",
    "    )\n",
    "    logging.debug(f\"{solution}\")\n",
    "logging.getLogger().setLevel(logging.INFO)\n",
    "for N in [5, 10, 20, 100, 500, 1000]:\n",
    "    greedy(N)\n",
    "\n"
   ]
  }
 ],
 "metadata": {
  "kernelspec": {
   "display_name": "Python 3.10.4 64-bit",
   "language": "python",
   "name": "python3"
  },
  "language_info": {
   "codemirror_mode": {
    "name": "ipython",
    "version": 3
   },
   "file_extension": ".py",
   "mimetype": "text/x-python",
   "name": "python",
   "nbconvert_exporter": "python",
   "pygments_lexer": "ipython3",
   "version": "3.10.4"
  },
  "orig_nbformat": 4,
  "vscode": {
   "interpreter": {
    "hash": "ed204b5e2083c3598cb0980b1cbb899db25f9bb28baf20f7c66ce13ce0ba4600"
   }
  }
 },
 "nbformat": 4,
 "nbformat_minor": 2
}
