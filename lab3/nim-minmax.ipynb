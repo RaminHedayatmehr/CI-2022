{
 "cells": [
  {
   "cell_type": "code",
   "execution_count": 1,
   "metadata": {},
   "outputs": [],
   "source": [
    "import logging\n",
    "import random\n",
    "from collections import namedtuple\n",
    "from itertools import accumulate\n",
    "from operator import xor\n",
    "from copy import deepcopy\n",
    "from typing import Callable\n",
    "import math"
   ]
  },
  {
   "cell_type": "code",
   "execution_count": 2,
   "metadata": {},
   "outputs": [],
   "source": [
    "logging.basicConfig(level=logging.INFO)\n",
    "Nimply = namedtuple(\"Nimply\", \"row, num_objects\")"
   ]
  },
  {
   "cell_type": "code",
   "execution_count": 3,
   "metadata": {},
   "outputs": [],
   "source": [
    "class Nim():\n",
    "    '''a basic class for the game of Nim'''\n",
    "    def __init__(self, num_rows: int, k: int = None) -> None:\n",
    "        self._rows = [i*2 + 1 for i in range(num_rows)]\n",
    "        self._k = k\n",
    "\n",
    "    def __bool__(self):\n",
    "        return sum(self._rows) > 0\n",
    "\n",
    "    def __str__(self):\n",
    "        return \"<\" + \" \".join(str(_) for _ in self._rows) + \">\"\n",
    "\n",
    "    @property\n",
    "    def rows(self) -> tuple:\n",
    "        return tuple(self._rows)\n",
    "\n",
    "    @property\n",
    "    def k(self) -> int:\n",
    "        return self._k\n",
    "\n",
    "    def nimming(self, row: int, num_objects: int) -> None:\n",
    "        assert self._rows[row] >= num_objects\n",
    "        assert self._k is None or num_objects <= self._k\n",
    "        self._rows[row] -= num_objects\n",
    "        \n",
    "\n",
    "    def nimming2(self, ply: Nimply) -> None:\n",
    "        row, num_objects = ply\n",
    "        assert self._rows[row] >= num_objects\n",
    "        assert self._k is None or num_objects <= self._k\n",
    "        self._rows[row] -= num_objects\n",
    "            \n",
    "    def is_terminal(self) -> bool:\n",
    "        return sum(self._rows) == 0\n",
    "        \n",
    "    def utility(self):\n",
    "        return 1 if self.is_terminal() else 0  \n",
    "\n",
    "    def actions(self, k = None):\n",
    "        if k is None:        \n",
    "            return [(i, j) for i in range(len(self._rows)) for j in range(1, self._rows[i] + 1)]\n",
    "        else:\n",
    "            return [(i, j) for i in range(len(self._rows)) for j in range(1, min(self._rows[i] + 1, k + 1))]"
   ]
  },
  {
   "cell_type": "code",
   "execution_count": 4,
   "metadata": {},
   "outputs": [],
   "source": [
    "def pure_random(state: Nim) -> Nimply:\n",
    "    row = random.choice([r for r, c in enumerate(state.rows) if c > 0])\n",
    "    num_objects = random.randint(1, state.rows[row])\n",
    "    return Nimply(row, num_objects)\n",
    "def nim_sum(state: Nim) -> int:\n",
    "    *_, result = accumulate(state.rows, xor)\n",
    "    return result"
   ]
  },
  {
   "cell_type": "code",
   "execution_count": 5,
   "metadata": {},
   "outputs": [],
   "source": [
    "def alphabeta_minmax(state, max_turn, alpha = -1, beta = 1):\n",
    "    utils_ = utility(state, max_turn)\n",
    "    if utils_ is not None:\n",
    "        return utils_\n",
    "\n",
    "    possible_new_states_list = possible_new_states(state, k)\n",
    "\n",
    "    child_scores = []\n",
    "    for new_state in possible_new_states_list:\n",
    "        score = alphabeta_minmax(new_state, max_turn = not max_turn, alpha=alpha, beta=beta)\n",
    "        child_scores.append(score)\n",
    "\n",
    "        if max_turn:\n",
    "            alpha = max(alpha, score)\n",
    "        else:\n",
    "            beta = min(beta, score)\n",
    "        \n",
    "        if beta <= alpha:\n",
    "            break\n",
    "\n",
    "    if max_turn:\n",
    "        return max(child_scores)\n",
    "    else:\n",
    "        return min(child_scores)\n",
    "\n",
    "def is_terminal(state):\n",
    "    \n",
    "    return sum(state) == 0\n",
    "\n",
    "def utility(state, max_turn):\n",
    "    \n",
    "    if is_terminal(state):\n",
    "        return 1 if not max_turn else -1\n",
    "\n",
    "def possible_new_states(state, k):\n",
    "    \n",
    "    if k == None:\n",
    "        \n",
    "        for row, objects in enumerate(state):            \n",
    "            for remaining in range(objects):\n",
    "                yield state[:row] + [remaining,] + state[row + 1 :]\n",
    "    else:\n",
    "        \n",
    "        for row, objects in enumerate(state):            \n",
    "            for remain in range(objects):\n",
    "                if objects - remain <= k:\n",
    "                    yield state[:row] + [remain,] + state[row + 1 :]\n",
    "\n",
    "def alphabeta_bestmove(state):\n",
    "    '''select the best move'''\n",
    "    for new_state in possible_new_states(state, k):\n",
    "        score = alphabeta_minmax(new_state, False)\n",
    "        if score > 0:\n",
    "            break\n",
    "    \n",
    "    for _, el in enumerate(state):\n",
    "        if abs(state[_] - new_state[_]) > 0:\n",
    "            logging.debug(f\"({_},{state[_] - new_state[_]})\")\n",
    "            return (_ , state[_] - new_state[_])"
   ]
  },
  {
   "cell_type": "code",
   "execution_count": null,
   "metadata": {},
   "outputs": [],
   "source": []
  }
 ],
 "metadata": {
  "kernelspec": {
   "display_name": "Python 3.9.7 ('base')",
   "language": "python",
   "name": "python3"
  },
  "language_info": {
   "codemirror_mode": {
    "name": "ipython",
    "version": 3
   },
   "file_extension": ".py",
   "mimetype": "text/x-python",
   "name": "python",
   "nbconvert_exporter": "python",
   "pygments_lexer": "ipython3",
   "version": "3.9.7"
  },
  "orig_nbformat": 4,
  "vscode": {
   "interpreter": {
    "hash": "925a0cb4008f248a6a9fcb265dbc12c9c0b85a5f917d182b9d0108397b823303"
   }
  }
 },
 "nbformat": 4,
 "nbformat_minor": 2
}
